{
 "cells": [
  {
   "cell_type": "code",
   "execution_count": 1,
   "metadata": {},
   "outputs": [],
   "source": [
    "import pytesseract \n",
    "from PIL import Image \n",
    "from pdf2image import convert_from_path \n",
    "from scipy import ndimage\n",
    "import numpy as np\n",
    "import cv2\n",
    "import math\n",
    "import sys \n",
    "import os "
   ]
  },
  {
   "cell_type": "code",
   "execution_count": 2,
   "metadata": {},
   "outputs": [],
   "source": [
    "# If you don't have tesseract executable in your PATH, include the following line of code\n",
    "pytesseract.pytesseract.tesseract_cmd = r'C:\\Program Files\\Tesseract-OCR\\tesseract.exe'"
   ]
  },
  {
   "cell_type": "code",
   "execution_count": null,
   "metadata": {},
   "outputs": [],
   "source": [
    "# Enter path of pdf file\n",
    "PDF_file = \"letter_of_offer.pdf\"\n",
    "\n",
    "''' \n",
    "Part #1 : Converting PDF to images \n",
    "'''\n",
    "\n",
    "# Store all the pages of the PDF in a variable \n",
    "pages = convert_from_path(PDF_file, 500) \n",
    "\n",
    "# Counter to store images of each page of PDF to image \n",
    "image_counter = 1\n",
    "\n",
    "# Iterate through all the pages stored above \n",
    "for page in pages: \n",
    "\n",
    "    # Declaring filename for each page of PDF as JPG \n",
    "    # For each page, filename will be: \n",
    "    # PDF page 1 -> page_1.jpg \n",
    "    # PDF page 2 -> page_2.jpg \n",
    "    # PDF page n -> page_n.jpg \n",
    "    filename = \"page_\"+str(image_counter)+\".jpg\"\n",
    "    \n",
    "    # Save image of the page in system \n",
    "    page.save(filename, 'JPEG') \n",
    "\n",
    "    # Increase counter to update filename \n",
    "    image_counter = image_counter + 1\n",
    "\n",
    "''' \n",
    "Part #2 - Recognising text from the images using OCR \n",
    "'''\n",
    "\n",
    "# Variable to get count of total number of pages \n",
    "filelimit = image_counter-1\n",
    "\n",
    "# Create a text file to write the output \n",
    "outfile = \"output_text.txt\"\n",
    "\n",
    "# Open the file in append mode so that contents of all images are added to the same file \n",
    "f = open(outfile, \"a\") \n",
    "\n",
    "# Iterate from 1 to the total number of pages \n",
    "for i in range(1, filelimit + 1): \n",
    "\n",
    "    # Set filename to recognize text from \n",
    "    # page_1.jpg \n",
    "    # page_2.jpg \n",
    "    # page_n.jpg \n",
    "    filename = \"page_\"+str(i)+\".jpg\"\n",
    "\n",
    "    # Recognise the text as string in image using pytesserct \n",
    "    text = str(((pytesseract.image_to_string(Image.open(filename))))) \n",
    "\n",
    "    # The recognized text is stored in variable text \n",
    "    # Any string processing may be applied on text \n",
    "    # Basic formatting has been performed \n",
    "    # In many PDFs, if a word can't be written fully at line ending, a 'hyphen' is added \n",
    "    # The rest of the word is written in the next line \n",
    "    # Replace every '-\\n' to '' to remove such hyphens \n",
    "    text = text.replace('-\\n', '') \n",
    "\n",
    "    # Write the processed text to the file\n",
    "    f.write(text) \n",
    "\n",
    "# Close the file after writing all the text\n",
    "f.close() "
   ]
  },
  {
   "cell_type": "code",
   "execution_count": 3,
   "metadata": {},
   "outputs": [],
   "source": [
    "# Read input image\n",
    "IMAGE_FILE_LOCATION = \"page_1.jpg\"\n",
    "input_img = cv2.imread(IMAGE_FILE_LOCATION)\n",
    "\n",
    "scale_percent = 21 # Percent of original size\n",
    "width = int(input_img.shape[1] * scale_percent / 100)\n",
    "height = int(input_img.shape[0] * scale_percent / 100)\n",
    "dim = (width, height)\n",
    "\n",
    "# Resize input image\n",
    "resized = cv2.resize(input_img, dim, interpolation = cv2.INTER_AREA)"
   ]
  },
  {
   "cell_type": "code",
   "execution_count": 4,
   "metadata": {},
   "outputs": [],
   "source": [
    "# REGION OF INTEREST (ROI) SELECTION\n",
    "\n",
    "# Initialize the list for storing the coordinates \n",
    "coordinates = [] \n",
    "  \n",
    "# Define callback function\n",
    "def shape_selection(event, x, y, flags, param): \n",
    "    global coordinates # Make coordinates global\n",
    "  \n",
    "    # Store the (x1,y1) coordinates when left mouse button is pressed  \n",
    "    if event == cv2.EVENT_LBUTTONDOWN: \n",
    "        coordinates = [(x, y)] \n",
    "  \n",
    "    # Store the (x2,y2) coordinates when the left mouse button is released and make a rectangle on the selected region\n",
    "    elif event == cv2.EVENT_LBUTTONUP: \n",
    "        coordinates.append((x, y)) \n",
    "  \n",
    "        # Draw a rectangle around the region of interest\n",
    "        cv2.rectangle(image, coordinates[0], coordinates[1], (0,0,255), 2) \n",
    "        cv2.imshow(\"image\", image) \n",
    "        \n",
    "# Load and make a copy of the image, and setup the mouse callback function \n",
    "image = resized\n",
    "image_copy = image.copy()\n",
    "cv2.namedWindow(\"image\") \n",
    "cv2.setMouseCallback(\"image\", shape_selection) \n",
    "   \n",
    "# Keep looping until the 'q' key is pressed \n",
    "while True: \n",
    "    # Display the image and wait for a keypress \n",
    "    cv2.imshow(\"image\", image) \n",
    "    key = cv2.waitKey(1) & 0xFF\n",
    "  \n",
    "    if key==13: # If 'enter' is pressed, apply OCR\n",
    "        break\n",
    "    \n",
    "    if key == ord(\"c\"): # Clear the selection when 'c' is pressed \n",
    "        image = image_copy.copy() \n",
    "\n",
    "if len(coordinates) == 2: \n",
    "    image_roi = image_copy[coordinates[0][1]:coordinates[1][1],\n",
    "                           coordinates[0][0]:coordinates[1][0]] \n",
    "    cv2.imshow(\"Selected Region of Interest - Press any key to proceed\", image_roi) \n",
    "    cv2.waitKey(0) \n",
    "\n",
    "# Close all open windows \n",
    "cv2.destroyAllWindows()  "
   ]
  },
  {
   "cell_type": "code",
   "execution_count": 5,
   "metadata": {},
   "outputs": [
    {
     "name": "stdout",
     "output_type": "stream",
     "text": [
      "The text in the selected region is as follows:\n",
      "\n",
      "16 June 2016\n",
      "\f",
      "\n"
     ]
    }
   ],
   "source": [
    "# OPTICAL CHARACTER RECOGNITION (OCR) ON ROI\n",
    "\n",
    "text = pytesseract.image_to_string(image_roi)\n",
    "print(\"The text in the selected region is as follows:\\n\")\n",
    "print(text)"
   ]
  },
  {
   "cell_type": "code",
   "execution_count": 6,
   "metadata": {},
   "outputs": [
    {
     "data": {
      "text/plain": [
       "(83, 188)"
      ]
     },
     "execution_count": 6,
     "metadata": {},
     "output_type": "execute_result"
    }
   ],
   "source": [
    "# Extraction of selected ROI coordinates\n",
    "coordinates[0] # x1,y1"
   ]
  },
  {
   "cell_type": "code",
   "execution_count": 7,
   "metadata": {},
   "outputs": [
    {
     "data": {
      "text/plain": [
       "(307, 204)"
      ]
     },
     "execution_count": 7,
     "metadata": {},
     "output_type": "execute_result"
    }
   ],
   "source": [
    "coordinates[1] # x2,y2"
   ]
  },
  {
   "cell_type": "code",
   "execution_count": 8,
   "metadata": {},
   "outputs": [],
   "source": [
    "IMAGE_FILE_LOCATION = \"page_1.jpg\"\n",
    "input_img = cv2.imread(IMAGE_FILE_LOCATION) # read image\n",
    "\n",
    "scale_percent = 21 # percent of original size\n",
    "width = int(input_img.shape[1] * scale_percent / 100)\n",
    "height = int(input_img.shape[0] * scale_percent / 100)\n",
    "dim = (width, height)\n",
    "\n",
    "# resize image\n",
    "resized = cv2.resize(input_img, dim, interpolation = cv2.INTER_AREA)"
   ]
  },
  {
   "cell_type": "code",
   "execution_count": 9,
   "metadata": {},
   "outputs": [],
   "source": [
    "# To automate the extraction of selected fields from a standard letter of offer, the coordinates of selected fields are extracted and assigned to variables\n",
    "lo_date = resized[188:204, 83:307] # y1:y2, x1:x2\n",
    "tenant_name = resized[238:259, 81:346]\n",
    "unit_num = resized[498:512, 113:154]\n",
    "floor_area = resized[557:576, 112:229]\n",
    "lease_term = resized[667:686, 112:219]\n",
    "term_of_tenancy = resized[728:748, 113:462]\n",
    "rent = resized[849:866, 465:601]\n",
    "service_charge = resized[865:879, 467:599]\n",
    "total_monthly_gross_rent = resized[884:899, 467:603]"
   ]
  },
  {
   "cell_type": "code",
   "execution_count": 10,
   "metadata": {},
   "outputs": [
    {
     "name": "stdout",
     "output_type": "stream",
     "text": [
      "Date of letter of offer:\n",
      "\n",
      "16 June 2016\n",
      "\f",
      "\n",
      "Name of tenant:\n",
      "\n",
      "ASLAN PHARMACEUTICALS PTE.LTD.\n",
      "\f",
      "\n",
      "Unit number:\n",
      "\n",
      "#12-03\n",
      "\f",
      "\n",
      "Floor area:\n",
      "\n",
      "4,500.00 square feet\n",
      "\f",
      "\n",
      "Lease term:\n",
      "\n",
      "Three (03) years\n",
      "\f",
      "\n",
      "Tenancy term:\n",
      "\n",
      "1 October 2016—30 September 2019 (both dates inclusive)\n",
      "\f",
      "\n",
      "Rent amount:\n",
      "\n",
      "$$26,775.00 per month\n",
      "\f",
      "\n",
      "Service charge amount:\n",
      "\n",
      "SS 4.725.00 per month\n",
      "\f",
      "\n",
      "Total monthly gross rent amount:\n",
      "\n",
      "$$31,500.00 per month\n",
      "\f",
      "\n"
     ]
    }
   ],
   "source": [
    "# OPTICAL CHARACTER RECOGNITION (OCR) on selected fields\n",
    "\n",
    "lo_date = pytesseract.image_to_string(lo_date)\n",
    "print(\"Date of letter of offer:\\n\")\n",
    "print(lo_date)\n",
    "\n",
    "tenant_name = pytesseract.image_to_string(tenant_name)\n",
    "print(\"Name of tenant:\\n\")\n",
    "print(tenant_name)\n",
    "\n",
    "unit_num = pytesseract.image_to_string(unit_num)\n",
    "print(\"Unit number:\\n\")\n",
    "print(unit_num)\n",
    "\n",
    "floor_area = pytesseract.image_to_string(floor_area)\n",
    "print(\"Floor area:\\n\")\n",
    "print(floor_area)\n",
    "\n",
    "lease_term = pytesseract.image_to_string(lease_term)\n",
    "print(\"Lease term:\\n\")\n",
    "print(lease_term)\n",
    "\n",
    "term_of_tenancy = pytesseract.image_to_string(term_of_tenancy)\n",
    "print(\"Tenancy term:\\n\")\n",
    "print(term_of_tenancy)\n",
    "\n",
    "rent = pytesseract.image_to_string(rent)\n",
    "print(\"Rent amount:\\n\")\n",
    "print(rent)\n",
    "\n",
    "service_charge = pytesseract.image_to_string(service_charge)\n",
    "print(\"Service charge amount:\\n\")\n",
    "print(service_charge)\n",
    "\n",
    "total_monthly_gross_rent = pytesseract.image_to_string(total_monthly_gross_rent)\n",
    "print(\"Total monthly gross rent amount:\\n\")\n",
    "print(total_monthly_gross_rent)"
   ]
  },
  {
   "cell_type": "code",
   "execution_count": null,
   "metadata": {},
   "outputs": [],
   "source": []
  }
 ],
 "metadata": {
  "kernelspec": {
   "display_name": "Python 3",
   "language": "python",
   "name": "python3"
  },
  "language_info": {
   "codemirror_mode": {
    "name": "ipython",
    "version": 3
   },
   "file_extension": ".py",
   "mimetype": "text/x-python",
   "name": "python",
   "nbconvert_exporter": "python",
   "pygments_lexer": "ipython3",
   "version": "3.7.6"
  }
 },
 "nbformat": 4,
 "nbformat_minor": 4
}
